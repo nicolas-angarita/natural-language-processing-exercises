{
 "cells": [
  {
   "cell_type": "code",
   "execution_count": 1,
   "id": "af1f5d58",
   "metadata": {},
   "outputs": [],
   "source": [
    "import pandas as pd\n",
    "import re"
   ]
  },
  {
   "cell_type": "markdown",
   "id": "450a938d",
   "metadata": {},
   "source": [
    "### 1. Write a function named is_vowel. It should accept a string as input and use a regular expression to determine if the passed string is a vowel. While not explicity mentioned in the lesson, you can treat the result of re.search as a boolean value that indicates whether or not the regular expression matches the given string."
   ]
  },
  {
   "cell_type": "code",
   "execution_count": 2,
   "id": "a6ac37f1",
   "metadata": {},
   "outputs": [],
   "source": [
    "def vowel_found():\n",
    "    string = input()\n",
    "    \n",
    "    if re.search(r'[aeiou]', string, re.IGNORECASE):\n",
    "        print('Vowels found in word') \n",
    "    else:\n",
    "        print('No vowels found in word')\n"
   ]
  },
  {
   "cell_type": "code",
   "execution_count": 3,
   "id": "d4ec42a1",
   "metadata": {},
   "outputs": [
    {
     "name": "stdout",
     "output_type": "stream",
     "text": [
      "hi\n",
      "Vowels found in word\n"
     ]
    }
   ],
   "source": [
    "vowel_found()"
   ]
  },
  {
   "cell_type": "code",
   "execution_count": 4,
   "id": "7b6480ed",
   "metadata": {},
   "outputs": [],
   "source": [
    "def is_vowel(string):\n",
    "    if re.search(r'[aeiou]', string, re.IGNORECASE):\n",
    "        return True\n",
    "    else:\n",
    "        return False"
   ]
  },
  {
   "cell_type": "code",
   "execution_count": 5,
   "id": "a2a3cfd4",
   "metadata": {},
   "outputs": [
    {
     "data": {
      "text/plain": [
       "True"
      ]
     },
     "execution_count": 5,
     "metadata": {},
     "output_type": "execute_result"
    }
   ],
   "source": [
    "is_vowel('codeup')"
   ]
  },
  {
   "cell_type": "code",
   "execution_count": 498,
   "id": "e4e03ba5",
   "metadata": {},
   "outputs": [],
   "source": [
    "def is_vowel(string):\n",
    "    \n",
    "    vowels = bool(re.search(r'^[aeiou]$', string, re.IGNORECASE))\n",
    "    \n",
    "    return vowels"
   ]
  },
  {
   "cell_type": "code",
   "execution_count": 499,
   "id": "8b1398e1",
   "metadata": {},
   "outputs": [
    {
     "data": {
      "text/plain": [
       "False"
      ]
     },
     "execution_count": 499,
     "metadata": {},
     "output_type": "execute_result"
    }
   ],
   "source": [
    "is_vowel('apple')"
   ]
  },
  {
   "cell_type": "code",
   "execution_count": 500,
   "id": "9bed8984",
   "metadata": {},
   "outputs": [
    {
     "data": {
      "text/plain": [
       "False"
      ]
     },
     "execution_count": 500,
     "metadata": {},
     "output_type": "execute_result"
    }
   ],
   "source": [
    "is_vowel('ok')"
   ]
  },
  {
   "cell_type": "markdown",
   "id": "9ea108ca",
   "metadata": {},
   "source": [
    "### 2. Write a function named is_valid_username that accepts a string as input. A valid username starts with a lowercase letter, and only consists of lowercase letters, numbers, or the _ character. It should also be no longer than 32 characters. The function should return either True or False depending on whether the passed string is a valid username."
   ]
  },
  {
   "cell_type": "code",
   "execution_count": 54,
   "id": "1f0cdaa4",
   "metadata": {},
   "outputs": [],
   "source": [
    "def is_valid_username(string):\n",
    "    if re.search(r'^[a-z]', string) and len(string) <= 32 and re.search(r'[a-z0-9_]*$', string):\n",
    "        return True \n",
    "    else:\n",
    "        return False"
   ]
  },
  {
   "cell_type": "code",
   "execution_count": 510,
   "id": "143222e9",
   "metadata": {},
   "outputs": [],
   "source": [
    "def is_valid_username(string):\n",
    "    if re.search(r'^[a-z][a-z0-9_]*$', string) and len(string) <= 32:\n",
    "        return True \n",
    "    else:\n",
    "        return False"
   ]
  },
  {
   "cell_type": "code",
   "execution_count": 511,
   "id": "c1432773",
   "metadata": {},
   "outputs": [
    {
     "data": {
      "text/plain": [
       "False"
      ]
     },
     "execution_count": 511,
     "metadata": {},
     "output_type": "execute_result"
    }
   ],
   "source": [
    "is_valid_username('12w_')"
   ]
  },
  {
   "cell_type": "code",
   "execution_count": 512,
   "id": "44f1c8fe",
   "metadata": {},
   "outputs": [
    {
     "data": {
      "text/plain": [
       "False"
      ]
     },
     "execution_count": 512,
     "metadata": {},
     "output_type": "execute_result"
    }
   ],
   "source": [
    "is_valid_username('!')"
   ]
  },
  {
   "cell_type": "code",
   "execution_count": 513,
   "id": "e42bd79d",
   "metadata": {},
   "outputs": [
    {
     "data": {
      "text/plain": [
       "False"
      ]
     },
     "execution_count": 513,
     "metadata": {},
     "output_type": "execute_result"
    }
   ],
   "source": [
    "is_valid_username('akjfhauhfkAHFhwjrIIADVNGAKEFR88fdadfa')"
   ]
  },
  {
   "cell_type": "code",
   "execution_count": 514,
   "id": "1d9ca916",
   "metadata": {},
   "outputs": [
    {
     "data": {
      "text/plain": [
       "31"
      ]
     },
     "execution_count": 514,
     "metadata": {},
     "output_type": "execute_result"
    }
   ],
   "source": [
    "len('akjfhauhfkAHFhwjrIIADVNGAKEFR88')"
   ]
  },
  {
   "cell_type": "code",
   "execution_count": 515,
   "id": "497f4a8d",
   "metadata": {},
   "outputs": [
    {
     "data": {
      "text/plain": [
       "False"
      ]
     },
     "execution_count": 515,
     "metadata": {},
     "output_type": "execute_result"
    }
   ],
   "source": [
    "is_valid_username('Angarita')"
   ]
  },
  {
   "cell_type": "code",
   "execution_count": 516,
   "id": "fd31c2a1",
   "metadata": {},
   "outputs": [
    {
     "data": {
      "text/plain": [
       "False"
      ]
     },
     "execution_count": 516,
     "metadata": {},
     "output_type": "execute_result"
    }
   ],
   "source": [
    "is_valid_username('aaaaaaaaaaaaaaaaaaaaaaaaaaaaaaaaa')"
   ]
  },
  {
   "cell_type": "code",
   "execution_count": 517,
   "id": "f1005567",
   "metadata": {},
   "outputs": [
    {
     "data": {
      "text/plain": [
       "True"
      ]
     },
     "execution_count": 517,
     "metadata": {},
     "output_type": "execute_result"
    }
   ],
   "source": [
    "is_valid_username('codeup')"
   ]
  },
  {
   "cell_type": "code",
   "execution_count": 518,
   "id": "9e86e98d",
   "metadata": {},
   "outputs": [
    {
     "data": {
      "text/plain": [
       "False"
      ]
     },
     "execution_count": 518,
     "metadata": {},
     "output_type": "execute_result"
    }
   ],
   "source": [
    "is_valid_username('Codeup')"
   ]
  },
  {
   "cell_type": "code",
   "execution_count": 519,
   "id": "aa3bee3c",
   "metadata": {},
   "outputs": [
    {
     "data": {
      "text/plain": [
       "True"
      ]
     },
     "execution_count": 519,
     "metadata": {},
     "output_type": "execute_result"
    }
   ],
   "source": [
    "is_valid_username('codeup123')"
   ]
  },
  {
   "cell_type": "code",
   "execution_count": 520,
   "id": "a6db99f5",
   "metadata": {},
   "outputs": [
    {
     "data": {
      "text/plain": [
       "False"
      ]
     },
     "execution_count": 520,
     "metadata": {},
     "output_type": "execute_result"
    }
   ],
   "source": [
    "is_valid_username('1codeup')"
   ]
  },
  {
   "cell_type": "markdown",
   "id": "03253160",
   "metadata": {},
   "source": [
    "### 3. Write a regular expression to capture phone numbers. It should match all of the following"
   ]
  },
  {
   "cell_type": "code",
   "execution_count": 526,
   "id": "c408f393",
   "metadata": {},
   "outputs": [],
   "source": [
    "def phone_number(number):\n",
    "    \n",
    "\n",
    "    phone = r'(?:(\\d+)\\D*)?(?:(\\d{3})\\D*)?(\\d{3})\\D*(\\d{4})'\n",
    "    #r'(\\d+)?\\s?(.\\d{3})?.?(\\d{3}).(\\d{4})'\n",
    "    re.search(phone, number).groups()\n",
    "    \n",
    "    return re.search(phone, number).groups()\n",
    "\n"
   ]
  },
  {
   "cell_type": "code",
   "execution_count": null,
   "id": "d19616fd",
   "metadata": {},
   "outputs": [],
   "source": []
  },
  {
   "cell_type": "code",
   "execution_count": 527,
   "id": "988834e5",
   "metadata": {},
   "outputs": [
    {
     "data": {
      "text/plain": [
       "('210', None, '867', '5309')"
      ]
     },
     "execution_count": 527,
     "metadata": {},
     "output_type": "execute_result"
    }
   ],
   "source": [
    "phone_number('(210) 867 5309')"
   ]
  },
  {
   "cell_type": "code",
   "execution_count": 528,
   "id": "58fd61c0",
   "metadata": {},
   "outputs": [
    {
     "data": {
      "text/plain": [
       "('1', '210', '867', '5309')"
      ]
     },
     "execution_count": 528,
     "metadata": {},
     "output_type": "execute_result"
    }
   ],
   "source": [
    "phone_number('+1 210.867.5309')"
   ]
  },
  {
   "cell_type": "code",
   "execution_count": 529,
   "id": "8ccd06d4",
   "metadata": {},
   "outputs": [
    {
     "data": {
      "text/plain": [
       "(None, None, '867', '5309')"
      ]
     },
     "execution_count": 529,
     "metadata": {},
     "output_type": "execute_result"
    }
   ],
   "source": [
    "phone_number('867-5309')"
   ]
  },
  {
   "cell_type": "code",
   "execution_count": 530,
   "id": "76dbc598",
   "metadata": {},
   "outputs": [
    {
     "data": {
      "text/plain": [
       "('210', None, '867', '5309')"
      ]
     },
     "execution_count": 530,
     "metadata": {},
     "output_type": "execute_result"
    }
   ],
   "source": [
    "phone_number('210-867-5309')"
   ]
  },
  {
   "cell_type": "code",
   "execution_count": 399,
   "id": "23940acc",
   "metadata": {},
   "outputs": [
    {
     "data": {
      "text/plain": [
       "(None, None, '867', '5309')"
      ]
     },
     "execution_count": 399,
     "metadata": {},
     "output_type": "execute_result"
    }
   ],
   "source": [
    "phone = r'(.\\d+)?\\s?(\\d{3})?.?(\\d{3}).(\\d{4})'\n",
    "number = '(210) 867 5309'\n",
    "\n",
    "country_code, area_code, telephone_prefix, line_code = re.search(phone,number).groups()\n",
    "country_code, area_code, telephone_prefix, line_code"
   ]
  },
  {
   "cell_type": "markdown",
   "id": "8b70f47b",
   "metadata": {},
   "source": [
    "### 4. Use regular expressions to convert the dates below to the standardized year-month-day format."
   ]
  },
  {
   "cell_type": "code",
   "execution_count": 244,
   "id": "2621cdda",
   "metadata": {},
   "outputs": [
    {
     "data": {
      "text/plain": [
       "('19', '02', '04')"
      ]
     },
     "execution_count": 244,
     "metadata": {},
     "output_type": "execute_result"
    }
   ],
   "source": [
    "year = r'(\\d{2})$'\n",
    "month = r'(\\d{2})'\n",
    "day= r'^(\\d{2})'\n",
    "date = r'(\\d{2})/(\\d{2})/(\\d{2})'\n",
    "\n",
    "month, day, year = re.findall(month, '02/04/19')\n",
    "year, month, day"
   ]
  },
  {
   "cell_type": "code",
   "execution_count": 531,
   "id": "02d0bf2a",
   "metadata": {},
   "outputs": [
    {
     "name": "stderr",
     "output_type": "stream",
     "text": [
      "/var/folders/wb/jmvhr1254qz8q35w554cyxww0000gn/T/ipykernel_1267/2477542130.py:8: FutureWarning: The default value of regex will change from True to False in a future version.\n",
      "  dates.str.replace(r'(\\d+)/(\\d+)/(\\d+)', r'20\\3-\\1-\\2')\n"
     ]
    },
    {
     "data": {
      "text/plain": [
       "0    2019-02-04\n",
       "1    2019-02-05\n",
       "2    2019-02-06\n",
       "3    2019-02-07\n",
       "4    2019-02-08\n",
       "5    2019-02-09\n",
       "6    2019-02-10\n",
       "dtype: object"
      ]
     },
     "execution_count": 531,
     "metadata": {},
     "output_type": "execute_result"
    }
   ],
   "source": [
    "#or another option is replace\n",
    "dates = pd.Series(['02/04/19', '02/05/19', '02/06/19', '02/07/19', '02/08/19', '02/09/19', '02/10/19'])\n",
    "\n",
    "#1st value is now 2nd\n",
    "#2nd value is now 3rd \n",
    "#3rd value is now 1st\n",
    "#add '20' to the begginning\n",
    "dates.str.replace(r'(\\d+)/(\\d+)/(\\d+)', r'20\\3-\\1-\\2')"
   ]
  },
  {
   "cell_type": "code",
   "execution_count": null,
   "id": "582b5a6f",
   "metadata": {},
   "outputs": [],
   "source": [
    "['''02/04/19\n",
    "02/05/19\n",
    "02/06/19\n",
    "02/07/19\n",
    "02/08/19\n",
    "02/09/19\n",
    "02/10/19''']"
   ]
  },
  {
   "cell_type": "code",
   "execution_count": 239,
   "id": "87addcbd",
   "metadata": {},
   "outputs": [],
   "source": [
    "def standard_date(date):\n",
    "    \n",
    "    ymd = r'(\\d{2})'\n",
    "    \n",
    "    month, day, year = re.findall(ymd, date)\n",
    "    \n",
    "    return year, month, day\n",
    "    "
   ]
  },
  {
   "cell_type": "code",
   "execution_count": 240,
   "id": "98552ff6",
   "metadata": {},
   "outputs": [
    {
     "data": {
      "text/plain": [
       "('19', '02', '05')"
      ]
     },
     "execution_count": 240,
     "metadata": {},
     "output_type": "execute_result"
    }
   ],
   "source": [
    "standard_date('02/05/19')"
   ]
  },
  {
   "cell_type": "markdown",
   "id": "6d0b64bd",
   "metadata": {},
   "source": [
    "### 5. Write a regex to extract the various parts of these logfile lines:"
   ]
  },
  {
   "cell_type": "code",
   "execution_count": 532,
   "id": "8a951b81",
   "metadata": {},
   "outputs": [],
   "source": [
    "logs = ('GET /api/v1/sales?page=86 [16/Apr/2019:193452+0000] HTTP/1.1 {200} 510348 \"python-requests/2.21.0\" 97.105.19.58','POST /users_accounts/file-upload [16/Apr/2019:193452+0000] HTTP/1.1 {201} 42 \"User-Agent: Mozilla/5.0 (X11; Fedora; Fedora; Linux x86_64) AppleWebKit/537.36 (KHTML, like Gecko) Chrome/73.0.3683.86 Safari/537.36\" 97.105.19.58','GET /api/v1/items?page=3 [16/Apr/2019:193453+0000] HTTP/1.1 {429} 3561 \"python-requests/2.21.0\" 97.105.19.58 ')"
   ]
  },
  {
   "cell_type": "code",
   "execution_count": 286,
   "id": "87c13a36",
   "metadata": {},
   "outputs": [],
   "source": [
    "log = 'GET /api/v1/sales?page=86 [16/Apr/2019:193452+0000] HTTP/1.1 {200} 510348 \"python-requests/2.21.0\" 97.105.19.58'\n",
    "log2 = 'POST /users_accounts/file-upload [16/Apr/2019:193452+0000] HTTP/1.1 {201} 42 \"User-Agent: Mozilla/5.0 (X11; Fedora; Fedora; Linux x86_64) AppleWebKit/537.36 (KHTML, like Gecko) Chrome/73.0.3683.86 Safari/537.36\" 97.105.19.58'\n",
    "log3 = 'GET /api/v1/items?page=3 [16/Apr/2019:193453+0000] HTTP/1.1 {429} 3561 \"python-requests/2.21.0\" 97.105.19.58 '"
   ]
  },
  {
   "cell_type": "code",
   "execution_count": 366,
   "id": "f1489914",
   "metadata": {},
   "outputs": [
    {
     "data": {
      "text/plain": [
       "[('GET',\n",
       "  '/api/v1/sales?page=86',\n",
       "  '[16/Apr/2019:193452+0000]',\n",
       "  'HTTP/1.1',\n",
       "  '{200}',\n",
       "  '510348',\n",
       "  '\"python-requests/2.21.0\"',\n",
       "  '97.105.19.58')]"
      ]
     },
     "execution_count": 366,
     "metadata": {},
     "output_type": "execute_result"
    }
   ],
   "source": [
    "pattern = r'(?P<request>\\w+)\\s(?P<url_path_number_page>\\/\\S+)\\s(?P<date>\\S+)\\s(?P<http>\\S+)\\s(?P<response>.\\d+.)\\s(?P<number>\\d+)\\s(?P<language_request>\".+?\")\\s(?P<ip_address>\\d+.{1,}\\S)'\n",
    "re.findall(pattern, log)"
   ]
  },
  {
   "cell_type": "code",
   "execution_count": 367,
   "id": "df7f6149",
   "metadata": {},
   "outputs": [
    {
     "data": {
      "text/plain": [
       "[('POST',\n",
       "  '/users_accounts/file-upload',\n",
       "  '[16/Apr/2019:193452+0000]',\n",
       "  'HTTP/1.1',\n",
       "  '{201}',\n",
       "  '42',\n",
       "  '\"User-Agent: Mozilla/5.0 (X11; Fedora; Fedora; Linux x86_64) AppleWebKit/537.36 (KHTML, like Gecko) Chrome/73.0.3683.86 Safari/537.36\"',\n",
       "  '97.105.19.58')]"
      ]
     },
     "execution_count": 367,
     "metadata": {},
     "output_type": "execute_result"
    }
   ],
   "source": [
    "re.findall(pattern,log2)"
   ]
  },
  {
   "cell_type": "code",
   "execution_count": 368,
   "id": "9e7c8464",
   "metadata": {},
   "outputs": [
    {
     "data": {
      "text/plain": [
       "[('GET',\n",
       "  '/api/v1/items?page=3',\n",
       "  '[16/Apr/2019:193453+0000]',\n",
       "  'HTTP/1.1',\n",
       "  '{429}',\n",
       "  '3561',\n",
       "  '\"python-requests/2.21.0\"',\n",
       "  '97.105.19.58')]"
      ]
     },
     "execution_count": 368,
     "metadata": {},
     "output_type": "execute_result"
    }
   ],
   "source": [
    "re.findall(pattern,log3)"
   ]
  },
  {
   "cell_type": "code",
   "execution_count": 533,
   "id": "8c73def6",
   "metadata": {},
   "outputs": [
    {
     "data": {
      "text/plain": [
       "[{'request': 'GET',\n",
       "  'url_path_number_page': '/api/v1/sales?page=86',\n",
       "  'date': '[16/Apr/2019:193452+0000]',\n",
       "  'http': 'HTTP/1.1',\n",
       "  'response': '{200}',\n",
       "  'number': '510348',\n",
       "  'language_request': '\"python-requests/2.21.0\"',\n",
       "  'ip_address': '97.105.19.58'},\n",
       " {'request': 'POST',\n",
       "  'url_path_number_page': '/users_accounts/file-upload',\n",
       "  'date': '[16/Apr/2019:193452+0000]',\n",
       "  'http': 'HTTP/1.1',\n",
       "  'response': '{201}',\n",
       "  'number': '42',\n",
       "  'language_request': '\"User-Agent: Mozilla/5.0 (X11; Fedora; Fedora; Linux x86_64) AppleWebKit/537.36 (KHTML, like Gecko) Chrome/73.0.3683.86 Safari/537.36\"',\n",
       "  'ip_address': '97.105.19.58'},\n",
       " {'request': 'GET',\n",
       "  'url_path_number_page': '/api/v1/items?page=3',\n",
       "  'date': '[16/Apr/2019:193453+0000]',\n",
       "  'http': 'HTTP/1.1',\n",
       "  'response': '{429}',\n",
       "  'number': '3561',\n",
       "  'language_request': '\"python-requests/2.21.0\"',\n",
       "  'ip_address': '97.105.19.58'}]"
      ]
     },
     "execution_count": 533,
     "metadata": {},
     "output_type": "execute_result"
    }
   ],
   "source": [
    "[re.search(pattern, log).groupdict() for log in logs]"
   ]
  }
 ],
 "metadata": {
  "kernelspec": {
   "display_name": "Python 3 (ipykernel)",
   "language": "python",
   "name": "python3"
  },
  "language_info": {
   "codemirror_mode": {
    "name": "ipython",
    "version": 3
   },
   "file_extension": ".py",
   "mimetype": "text/x-python",
   "name": "python",
   "nbconvert_exporter": "python",
   "pygments_lexer": "ipython3",
   "version": "3.9.13"
  }
 },
 "nbformat": 4,
 "nbformat_minor": 5
}
