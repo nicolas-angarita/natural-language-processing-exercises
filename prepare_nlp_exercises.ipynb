{
 "cells": [
  {
   "cell_type": "code",
   "execution_count": 1,
   "id": "d9d04e90",
   "metadata": {},
   "outputs": [],
   "source": [
    "import unicodedata\n",
    "import re\n",
    "import json\n",
    "\n",
    "import nltk\n",
    "from nltk.tokenize.toktok import ToktokTokenizer\n",
    "from nltk.corpus import stopwords\n",
    "\n",
    "import pandas as pd\n",
    "\n",
    "import acquire as a\n",
    "\n",
    "import warnings\n",
    "warnings.filterwarnings('ignore')"
   ]
  },
  {
   "cell_type": "code",
   "execution_count": 2,
   "id": "6f726ba3",
   "metadata": {},
   "outputs": [],
   "source": [
    "# nltk.download('all')"
   ]
  },
  {
   "cell_type": "markdown",
   "id": "01a5198b",
   "metadata": {},
   "source": [
    "### 1. Define a function named basic_clean. It should take in a string and apply some basic text cleaning to it:\n",
    "\n",
    "    - Lowercase everything\n",
    "    - Normalize unicode characters\n",
    "    - Replace anything that is not a letter, number, whitespace or a single quote."
   ]
  },
  {
   "cell_type": "code",
   "execution_count": 3,
   "id": "5c9e73e9",
   "metadata": {},
   "outputs": [],
   "source": [
    "def basic_clean(string):\n",
    "    string = string.lower()\n",
    "    string = unicodedata.normalize('NFKD', string).encode('ascii', 'ignore').decode('utf-8')\n",
    "    string = re.sub(r'[^a-z0-9\\'\\s]', '', string)\n",
    "    \n",
    "    return string"
   ]
  },
  {
   "cell_type": "code",
   "execution_count": 4,
   "id": "63706b52",
   "metadata": {},
   "outputs": [
    {
     "data": {
      "text/plain": [
       "'angarta'"
      ]
     },
     "execution_count": 4,
     "metadata": {},
     "output_type": "execute_result"
    }
   ],
   "source": [
    "basic_clean('Angarta')"
   ]
  },
  {
   "cell_type": "code",
   "execution_count": 5,
   "id": "afd7ead8",
   "metadata": {},
   "outputs": [
    {
     "data": {
      "text/plain": [
       "'angarita'"
      ]
     },
     "execution_count": 5,
     "metadata": {},
     "output_type": "execute_result"
    }
   ],
   "source": [
    "basic_clean('Angaríta')"
   ]
  },
  {
   "cell_type": "code",
   "execution_count": 6,
   "id": "2f8ee32b",
   "metadata": {},
   "outputs": [
    {
     "data": {
      "text/plain": [
       "\"angarita 's'\""
      ]
     },
     "execution_count": 6,
     "metadata": {},
     "output_type": "execute_result"
    }
   ],
   "source": [
    "basic_clean(\"Angaríta '!s'\")"
   ]
  },
  {
   "cell_type": "markdown",
   "id": "e1615e0a",
   "metadata": {},
   "source": [
    "### 2. Define a function named tokenize. It should take in a string and tokenize all the words in the string."
   ]
  },
  {
   "cell_type": "code",
   "execution_count": 7,
   "id": "daca4081",
   "metadata": {},
   "outputs": [],
   "source": [
    "def tokenize(string):\n",
    "\n",
    "    tokenize = nltk.tokenize.ToktokTokenizer()\n",
    "    string = tokenize.tokenize(string)\n",
    "    \n",
    "    return string"
   ]
  },
  {
   "cell_type": "code",
   "execution_count": 8,
   "id": "6c476343",
   "metadata": {},
   "outputs": [
    {
     "data": {
      "text/plain": [
       "['hello', 'my', 'name', 'is', 'nico']"
      ]
     },
     "execution_count": 8,
     "metadata": {},
     "output_type": "execute_result"
    }
   ],
   "source": [
    "tokenize('hello my name is nico')"
   ]
  },
  {
   "cell_type": "markdown",
   "id": "6c7343dc",
   "metadata": {},
   "source": [
    "### 3. Define a function named stem. It should accept some text and return the text after applying stemming to all the words."
   ]
  },
  {
   "cell_type": "code",
   "execution_count": 64,
   "id": "e1e2db19",
   "metadata": {},
   "outputs": [],
   "source": [
    "def stem(text):\n",
    "    \n",
    "    ps = nltk.porter.PorterStemmer()\n",
    "    stems = [ps.stem(word) for word in text]\n",
    "    # glue it back together with spaces, as it was before\n",
    "    text = ' '.join(stems)\n",
    "    \n",
    "    return text"
   ]
  },
  {
   "cell_type": "markdown",
   "id": "f902add3",
   "metadata": {},
   "source": [
    "### 4. Define a function named lemmatize. It should accept some text and return the text after applying lemmatization to each word."
   ]
  },
  {
   "cell_type": "code",
   "execution_count": 65,
   "id": "bf682e73",
   "metadata": {},
   "outputs": [],
   "source": [
    "def lemmatize(text):\n",
    "    \n",
    "    wnl = nltk.stem.WordNetLemmatizer()\n",
    "   \n",
    "    lemmas = [wnl.lemmatize(word) for word in text]\n",
    "    \n",
    "    text = ' '.join(lemmas)\n",
    "\n",
    "    return text"
   ]
  },
  {
   "cell_type": "markdown",
   "id": "70d959da",
   "metadata": {},
   "source": [
    "### 5. Define a function named remove_stopwords. It should accept some text and return the text after removing all the stopwords.\n",
    "\n",
    " - This function should define two optional parameters, extra_words and exclude_words.\n",
    " - These parameters should define any additional stop words to include, and any words that we don't want to remove."
   ]
  },
  {
   "cell_type": "code",
   "execution_count": 47,
   "id": "c5b33827",
   "metadata": {},
   "outputs": [],
   "source": [
    "def remove_stopwords(string, extra_words = [], exclude_words = []):\n",
    "\n",
    "    stopword_list = stopwords.words('english')\n",
    "\n",
    "    stopword_list = set(stopword_list) - set(exclude_words)\n",
    "\n",
    "    stopword_list = stopword_list.union(set(extra_words))\n",
    "    \n",
    "    words = string #.split()\n",
    "    \n",
    "    filtered_words = [word for word in words.split() if word not in stopword_list]\n",
    "    \n",
    "    string_without_stopwords = ' '.join(filtered_words)\n",
    "    \n",
    "    return string_without_stopwords"
   ]
  },
  {
   "cell_type": "code",
   "execution_count": 48,
   "id": "ef53b242",
   "metadata": {},
   "outputs": [
    {
     "data": {
      "text/plain": [
       "'I would like 1 million dollars, I could buy lot stuff'"
      ]
     },
     "execution_count": 48,
     "metadata": {},
     "output_type": "execute_result"
    }
   ],
   "source": [
    "remove_stopwords('I would like a 1 million dollars, because I could buy a lot of stuff')"
   ]
  },
  {
   "cell_type": "markdown",
   "id": "e575107a",
   "metadata": {},
   "source": [
    "### 6. Use your data from the acquire to produce a dataframe of the news articles. Name the dataframe news_df."
   ]
  },
  {
   "cell_type": "code",
   "execution_count": 13,
   "id": "c4d4e70d",
   "metadata": {},
   "outputs": [
    {
     "data": {
      "text/html": [
       "<div>\n",
       "<style scoped>\n",
       "    .dataframe tbody tr th:only-of-type {\n",
       "        vertical-align: middle;\n",
       "    }\n",
       "\n",
       "    .dataframe tbody tr th {\n",
       "        vertical-align: top;\n",
       "    }\n",
       "\n",
       "    .dataframe thead th {\n",
       "        text-align: right;\n",
       "    }\n",
       "</style>\n",
       "<table border=\"1\" class=\"dataframe\">\n",
       "  <thead>\n",
       "    <tr style=\"text-align: right;\">\n",
       "      <th></th>\n",
       "      <th>title</th>\n",
       "      <th>content</th>\n",
       "      <th>category</th>\n",
       "    </tr>\n",
       "  </thead>\n",
       "  <tbody>\n",
       "    <tr>\n",
       "      <th>0</th>\n",
       "      <td>All Adani stocks end higher for the first time...</td>\n",
       "      <td>All 10 Adani Group stocks closed higher on Wed...</td>\n",
       "      <td>business</td>\n",
       "    </tr>\n",
       "    <tr>\n",
       "      <th>1</th>\n",
       "      <td>Smriti Irani's 2011 tweet on LPG price hike re...</td>\n",
       "      <td>Hours after the central government raised the ...</td>\n",
       "      <td>business</td>\n",
       "    </tr>\n",
       "    <tr>\n",
       "      <th>2</th>\n",
       "      <td>Indian-Americans Renjen, Subramaniam to be mem...</td>\n",
       "      <td>Indian-Americans Punit Renjen and Rajesh Subra...</td>\n",
       "      <td>business</td>\n",
       "    </tr>\n",
       "    <tr>\n",
       "      <th>3</th>\n",
       "      <td>Adani secures $3 bn credit from a sovereign we...</td>\n",
       "      <td>Adani Group has reportedly told creditors it h...</td>\n",
       "      <td>business</td>\n",
       "    </tr>\n",
       "    <tr>\n",
       "      <th>4</th>\n",
       "      <td>We can score a century for progress: Gates on ...</td>\n",
       "      <td>Microsoft Co-founder Bill Gates shared a messa...</td>\n",
       "      <td>business</td>\n",
       "    </tr>\n",
       "    <tr>\n",
       "      <th>...</th>\n",
       "      <td>...</td>\n",
       "      <td>...</td>\n",
       "      <td>...</td>\n",
       "    </tr>\n",
       "    <tr>\n",
       "      <th>95</th>\n",
       "      <td>India to be world's cheapest 5G market: Bill G...</td>\n",
       "      <td>At a session with Telecom Minister Ashwini Vai...</td>\n",
       "      <td>technology</td>\n",
       "    </tr>\n",
       "    <tr>\n",
       "      <th>96</th>\n",
       "      <td>Elon Musk plays fart sounds in 2 am Twitter Sp...</td>\n",
       "      <td>Twitter chief Elon Musk co-hosted a Twitter Sp...</td>\n",
       "      <td>technology</td>\n",
       "    </tr>\n",
       "    <tr>\n",
       "      <th>97</th>\n",
       "      <td>Woman loses ₹8 lakh after being locked out of ...</td>\n",
       "      <td>A woman in the US has said she was locked out ...</td>\n",
       "      <td>technology</td>\n",
       "    </tr>\n",
       "    <tr>\n",
       "      <th>98</th>\n",
       "      <td>Foxconn Chairman meets PM Modi for 2nd time in...</td>\n",
       "      <td>Apple supplier Foxconn's Chairman Young Liu on...</td>\n",
       "      <td>technology</td>\n",
       "    </tr>\n",
       "    <tr>\n",
       "      <th>99</th>\n",
       "      <td>No nation built more comprehensive digital inf...</td>\n",
       "      <td>Microsoft Co-founder Bill Gates said that no c...</td>\n",
       "      <td>technology</td>\n",
       "    </tr>\n",
       "  </tbody>\n",
       "</table>\n",
       "<p>100 rows × 3 columns</p>\n",
       "</div>"
      ],
      "text/plain": [
       "                                                title  \\\n",
       "0   All Adani stocks end higher for the first time...   \n",
       "1   Smriti Irani's 2011 tweet on LPG price hike re...   \n",
       "2   Indian-Americans Renjen, Subramaniam to be mem...   \n",
       "3   Adani secures $3 bn credit from a sovereign we...   \n",
       "4   We can score a century for progress: Gates on ...   \n",
       "..                                                ...   \n",
       "95  India to be world's cheapest 5G market: Bill G...   \n",
       "96  Elon Musk plays fart sounds in 2 am Twitter Sp...   \n",
       "97  Woman loses ₹8 lakh after being locked out of ...   \n",
       "98  Foxconn Chairman meets PM Modi for 2nd time in...   \n",
       "99  No nation built more comprehensive digital inf...   \n",
       "\n",
       "                                              content    category  \n",
       "0   All 10 Adani Group stocks closed higher on Wed...    business  \n",
       "1   Hours after the central government raised the ...    business  \n",
       "2   Indian-Americans Punit Renjen and Rajesh Subra...    business  \n",
       "3   Adani Group has reportedly told creditors it h...    business  \n",
       "4   Microsoft Co-founder Bill Gates shared a messa...    business  \n",
       "..                                                ...         ...  \n",
       "95  At a session with Telecom Minister Ashwini Vai...  technology  \n",
       "96  Twitter chief Elon Musk co-hosted a Twitter Sp...  technology  \n",
       "97  A woman in the US has said she was locked out ...  technology  \n",
       "98  Apple supplier Foxconn's Chairman Young Liu on...  technology  \n",
       "99  Microsoft Co-founder Bill Gates said that no c...  technology  \n",
       "\n",
       "[100 rows x 3 columns]"
      ]
     },
     "execution_count": 13,
     "metadata": {},
     "output_type": "execute_result"
    }
   ],
   "source": [
    "news_df = a.get_news_blog_articles()\n",
    "news_df"
   ]
  },
  {
   "cell_type": "markdown",
   "id": "d226db72",
   "metadata": {},
   "source": [
    "### 7. Make another dataframe for the Codeup blog posts. Name the dataframe codeup_df."
   ]
  },
  {
   "cell_type": "code",
   "execution_count": 14,
   "id": "0232c260",
   "metadata": {},
   "outputs": [
    {
     "data": {
      "text/html": [
       "<div>\n",
       "<style scoped>\n",
       "    .dataframe tbody tr th:only-of-type {\n",
       "        vertical-align: middle;\n",
       "    }\n",
       "\n",
       "    .dataframe tbody tr th {\n",
       "        vertical-align: top;\n",
       "    }\n",
       "\n",
       "    .dataframe thead th {\n",
       "        text-align: right;\n",
       "    }\n",
       "</style>\n",
       "<table border=\"1\" class=\"dataframe\">\n",
       "  <thead>\n",
       "    <tr style=\"text-align: right;\">\n",
       "      <th></th>\n",
       "      <th>title</th>\n",
       "      <th>content</th>\n",
       "    </tr>\n",
       "  </thead>\n",
       "  <tbody>\n",
       "    <tr>\n",
       "      <th>0</th>\n",
       "      <td>Black Excellence in Tech: Panelist Spotlight –...</td>\n",
       "      <td>Black excellence in tech: Panelist Spotlight –...</td>\n",
       "    </tr>\n",
       "    <tr>\n",
       "      <th>1</th>\n",
       "      <td>Black excellence in tech: Panelist Spotlight –...</td>\n",
       "      <td>Black excellence in tech: Panelist Spotlight –...</td>\n",
       "    </tr>\n",
       "    <tr>\n",
       "      <th>2</th>\n",
       "      <td>Black excellence in tech: Panelist Spotlight –...</td>\n",
       "      <td>Black excellence in tech: Panelist Spotlight –...</td>\n",
       "    </tr>\n",
       "    <tr>\n",
       "      <th>3</th>\n",
       "      <td>Black excellence in tech: Panelist Spotlight –...</td>\n",
       "      <td>Black excellence in tech: Panelist Spotlight –...</td>\n",
       "    </tr>\n",
       "    <tr>\n",
       "      <th>4</th>\n",
       "      <td>Coding Bootcamp or Self-Learning? Which is Bes...</td>\n",
       "      <td>If you’re interested in embarking on a career ...</td>\n",
       "    </tr>\n",
       "    <tr>\n",
       "      <th>5</th>\n",
       "      <td>Codeup Among Top 58 Best Coding Bootcamps of 2023</td>\n",
       "      <td>Codeup is pleased to announce we have been ran...</td>\n",
       "    </tr>\n",
       "  </tbody>\n",
       "</table>\n",
       "</div>"
      ],
      "text/plain": [
       "                                               title  \\\n",
       "0  Black Excellence in Tech: Panelist Spotlight –...   \n",
       "1  Black excellence in tech: Panelist Spotlight –...   \n",
       "2  Black excellence in tech: Panelist Spotlight –...   \n",
       "3  Black excellence in tech: Panelist Spotlight –...   \n",
       "4  Coding Bootcamp or Self-Learning? Which is Bes...   \n",
       "5  Codeup Among Top 58 Best Coding Bootcamps of 2023   \n",
       "\n",
       "                                             content  \n",
       "0  Black excellence in tech: Panelist Spotlight –...  \n",
       "1  Black excellence in tech: Panelist Spotlight –...  \n",
       "2  Black excellence in tech: Panelist Spotlight –...  \n",
       "3  Black excellence in tech: Panelist Spotlight –...  \n",
       "4  If you’re interested in embarking on a career ...  \n",
       "5  Codeup is pleased to announce we have been ran...  "
      ]
     },
     "execution_count": 14,
     "metadata": {},
     "output_type": "execute_result"
    }
   ],
   "source": [
    "codeup_df = a.acquire_codeup()\n",
    "codeup_df"
   ]
  },
  {
   "cell_type": "markdown",
   "id": "03ab372c",
   "metadata": {},
   "source": [
    "### 8. For each dataframe, produce the following columns:\n",
    "\n",
    "    - title to hold the title\n",
    "    - original to hold the original article/post content\n",
    "    - clean to hold the normalized and tokenized original with the stopwords removed.\n",
    "    - stemmed to hold the stemmed version of the cleaned data.\n",
    "    - lemmatized to hold the lemmatized version of the cleaned data."
   ]
  },
  {
   "cell_type": "code",
   "execution_count": 16,
   "id": "08842fda",
   "metadata": {},
   "outputs": [
    {
     "data": {
      "text/plain": [
       "['title', 'content']"
      ]
     },
     "execution_count": 16,
     "metadata": {},
     "output_type": "execute_result"
    }
   ],
   "source": [
    "# clean, stemmed, and lemmatized columns\n",
    "codeup_df.columns.tolist()"
   ]
  },
  {
   "cell_type": "code",
   "execution_count": 21,
   "id": "d01d6c0c",
   "metadata": {},
   "outputs": [
    {
     "data": {
      "text/html": [
       "<div>\n",
       "<style scoped>\n",
       "    .dataframe tbody tr th:only-of-type {\n",
       "        vertical-align: middle;\n",
       "    }\n",
       "\n",
       "    .dataframe tbody tr th {\n",
       "        vertical-align: top;\n",
       "    }\n",
       "\n",
       "    .dataframe thead th {\n",
       "        text-align: right;\n",
       "    }\n",
       "</style>\n",
       "<table border=\"1\" class=\"dataframe\">\n",
       "  <thead>\n",
       "    <tr style=\"text-align: right;\">\n",
       "      <th></th>\n",
       "      <th>title</th>\n",
       "      <th>original</th>\n",
       "    </tr>\n",
       "  </thead>\n",
       "  <tbody>\n",
       "    <tr>\n",
       "      <th>0</th>\n",
       "      <td>Black Excellence in Tech: Panelist Spotlight –...</td>\n",
       "      <td>Black excellence in tech: Panelist Spotlight –...</td>\n",
       "    </tr>\n",
       "    <tr>\n",
       "      <th>1</th>\n",
       "      <td>Black excellence in tech: Panelist Spotlight –...</td>\n",
       "      <td>Black excellence in tech: Panelist Spotlight –...</td>\n",
       "    </tr>\n",
       "    <tr>\n",
       "      <th>2</th>\n",
       "      <td>Black excellence in tech: Panelist Spotlight –...</td>\n",
       "      <td>Black excellence in tech: Panelist Spotlight –...</td>\n",
       "    </tr>\n",
       "    <tr>\n",
       "      <th>3</th>\n",
       "      <td>Black excellence in tech: Panelist Spotlight –...</td>\n",
       "      <td>Black excellence in tech: Panelist Spotlight –...</td>\n",
       "    </tr>\n",
       "    <tr>\n",
       "      <th>4</th>\n",
       "      <td>Coding Bootcamp or Self-Learning? Which is Bes...</td>\n",
       "      <td>If you’re interested in embarking on a career ...</td>\n",
       "    </tr>\n",
       "    <tr>\n",
       "      <th>5</th>\n",
       "      <td>Codeup Among Top 58 Best Coding Bootcamps of 2023</td>\n",
       "      <td>Codeup is pleased to announce we have been ran...</td>\n",
       "    </tr>\n",
       "  </tbody>\n",
       "</table>\n",
       "</div>"
      ],
      "text/plain": [
       "                                               title  \\\n",
       "0  Black Excellence in Tech: Panelist Spotlight –...   \n",
       "1  Black excellence in tech: Panelist Spotlight –...   \n",
       "2  Black excellence in tech: Panelist Spotlight –...   \n",
       "3  Black excellence in tech: Panelist Spotlight –...   \n",
       "4  Coding Bootcamp or Self-Learning? Which is Bes...   \n",
       "5  Codeup Among Top 58 Best Coding Bootcamps of 2023   \n",
       "\n",
       "                                            original  \n",
       "0  Black excellence in tech: Panelist Spotlight –...  \n",
       "1  Black excellence in tech: Panelist Spotlight –...  \n",
       "2  Black excellence in tech: Panelist Spotlight –...  \n",
       "3  Black excellence in tech: Panelist Spotlight –...  \n",
       "4  If you’re interested in embarking on a career ...  \n",
       "5  Codeup is pleased to announce we have been ran...  "
      ]
     },
     "execution_count": 21,
     "metadata": {},
     "output_type": "execute_result"
    }
   ],
   "source": [
    "codeup_df.rename(columns={'content':'original'},  inplace= True)\n",
    "codeup_df"
   ]
  },
  {
   "cell_type": "code",
   "execution_count": 25,
   "id": "e203da5b",
   "metadata": {},
   "outputs": [
    {
     "data": {
      "text/plain": [
       "'black excellence in tech panelist spotlight  wilmarie de la cruz mejia\\n\\ncodeup is hosting a black excellence in tech panel in honor of black history month on february 22 2023 to further celebrate wed like to spotlight each of our panelists leading up to the discussion to learn a bit about their respective experiences as black leaders in the tech industry  \\nmeet wilmarie\\nwilmarie de la cruz mejia is a current codeup student on the path to becoming a fullstack web developer at our dallas tx campus \\nwilmarie is a veteran expanding her knowledge of programming languages and technologies on her journey with codeup \\nwe asked wilmarie to share more about her experience at codeup she shares i was able to meet other people who were passionate about coding and be in a positive learning environment\\nwe hope you can join us on february 22nd to sit in on an insightful conversation with wilmarie and all of our panelists'"
      ]
     },
     "execution_count": 25,
     "metadata": {},
     "output_type": "execute_result"
    }
   ],
   "source": [
    "basic_clean(codeup_df['original'][0])"
   ]
  },
  {
   "cell_type": "code",
   "execution_count": null,
   "id": "42fa71b1",
   "metadata": {},
   "outputs": [],
   "source": [
    "tokenize(codeup_df['original'][0])"
   ]
  },
  {
   "cell_type": "code",
   "execution_count": 40,
   "id": "f19998b3",
   "metadata": {},
   "outputs": [
    {
     "data": {
      "text/plain": [
       "'Black excellence tech: Panelist Spotlight – Wilmarie De La Cruz Mejia Codeup hosting Black Excellence Tech Panel honor Black History Month February 22, 2023! To celebrate, we’d like spotlight panelists leading discussion learn bit respective experiences black leaders tech industry! Meet Wilmarie! Wilmarie De La Cruz Mejia current Codeup student path becoming Full-Stack Web Developer Dallas, TX campus. Wilmarie veteran expanding knowledge programming languages technologies journey Codeup. We asked Wilmarie share experience Codeup. She shares, “I able meet people passionate coding positive learning environment.” We hope join us February 22nd sit insightful conversation Wilmarie panelists!'"
      ]
     },
     "execution_count": 40,
     "metadata": {},
     "output_type": "execute_result"
    }
   ],
   "source": [
    "remove_stopwords(codeup_df['original'][0])"
   ]
  },
  {
   "cell_type": "code",
   "execution_count": 60,
   "id": "d68fdc33",
   "metadata": {},
   "outputs": [],
   "source": [
    "num_1 = codeup_df['clean'][0]"
   ]
  },
  {
   "cell_type": "code",
   "execution_count": 67,
   "id": "1f650bcc",
   "metadata": {},
   "outputs": [
    {
     "data": {
      "text/plain": [
       "'black excel tech panelist spotlight wilmari de la cruz mejia codeup host black excel tech panel honor black histori month februari 22 2023 celebr wed like spotlight panelist lead discuss learn bit respect experi black leader tech industri meet wilmari wilmari de la cruz mejia current codeup student path becom fullstack web develop dalla tx campu wilmari veteran expand knowledg program languag technolog journey codeup ask wilmari share experi codeup share abl meet peopl passion code posit learn environ hope join us februari 22nd sit insight convers wilmari panelist'"
      ]
     },
     "execution_count": 67,
     "metadata": {},
     "output_type": "execute_result"
    }
   ],
   "source": [
    "stem(num_1)"
   ]
  },
  {
   "cell_type": "code",
   "execution_count": 66,
   "id": "b7135344",
   "metadata": {},
   "outputs": [
    {
     "data": {
      "text/plain": [
       "'black excellence tech panelist spotlight wilmarie de la cruz mejia codeup hosting black excellence tech panel honor black history month february 22 2023 celebrate wed like spotlight panelist leading discussion learn bit respective experience black leader tech industry meet wilmarie wilmarie de la cruz mejia current codeup student path becoming fullstack web developer dallas tx campus wilmarie veteran expanding knowledge programming language technology journey codeup asked wilmarie share experience codeup share able meet people passionate coding positive learning environment hope join u february 22nd sit insightful conversation wilmarie panelist'"
      ]
     },
     "execution_count": 66,
     "metadata": {},
     "output_type": "execute_result"
    }
   ],
   "source": [
    "lemmatize(num_1)"
   ]
  },
  {
   "cell_type": "code",
   "execution_count": 68,
   "id": "787990cb",
   "metadata": {},
   "outputs": [
    {
     "data": {
      "text/html": [
       "<div>\n",
       "<style scoped>\n",
       "    .dataframe tbody tr th:only-of-type {\n",
       "        vertical-align: middle;\n",
       "    }\n",
       "\n",
       "    .dataframe tbody tr th {\n",
       "        vertical-align: top;\n",
       "    }\n",
       "\n",
       "    .dataframe thead th {\n",
       "        text-align: right;\n",
       "    }\n",
       "</style>\n",
       "<table border=\"1\" class=\"dataframe\">\n",
       "  <thead>\n",
       "    <tr style=\"text-align: right;\">\n",
       "      <th></th>\n",
       "      <th>title</th>\n",
       "      <th>original</th>\n",
       "      <th>clean</th>\n",
       "      <th>stemmed</th>\n",
       "      <th>lemmatized</th>\n",
       "    </tr>\n",
       "  </thead>\n",
       "  <tbody>\n",
       "    <tr>\n",
       "      <th>0</th>\n",
       "      <td>Black Excellence in Tech: Panelist Spotlight –...</td>\n",
       "      <td>Black excellence in tech: Panelist Spotlight –...</td>\n",
       "      <td>[black, excellence, tech, panelist, spotlight,...</td>\n",
       "      <td>black excel tech panelist spotlight wilmari de...</td>\n",
       "      <td>black excellence tech panelist spotlight wilma...</td>\n",
       "    </tr>\n",
       "    <tr>\n",
       "      <th>1</th>\n",
       "      <td>Black excellence in tech: Panelist Spotlight –...</td>\n",
       "      <td>Black excellence in tech: Panelist Spotlight –...</td>\n",
       "      <td>[black, excellence, tech, panelist, spotlight,...</td>\n",
       "      <td>black excel tech panelist spotlight stephani j...</td>\n",
       "      <td>black excellence tech panelist spotlight steph...</td>\n",
       "    </tr>\n",
       "    <tr>\n",
       "      <th>2</th>\n",
       "      <td>Black excellence in tech: Panelist Spotlight –...</td>\n",
       "      <td>Black excellence in tech: Panelist Spotlight –...</td>\n",
       "      <td>[black, excellence, tech, panelist, spotlight,...</td>\n",
       "      <td>black excel tech panelist spotlight jame coope...</td>\n",
       "      <td>black excellence tech panelist spotlight james...</td>\n",
       "    </tr>\n",
       "    <tr>\n",
       "      <th>3</th>\n",
       "      <td>Black excellence in tech: Panelist Spotlight –...</td>\n",
       "      <td>Black excellence in tech: Panelist Spotlight –...</td>\n",
       "      <td>[black, excellence, tech, panelist, spotlight,...</td>\n",
       "      <td>black excel tech panelist spotlight jeanic fre...</td>\n",
       "      <td>black excellence tech panelist spotlight jeani...</td>\n",
       "    </tr>\n",
       "    <tr>\n",
       "      <th>4</th>\n",
       "      <td>Coding Bootcamp or Self-Learning? Which is Bes...</td>\n",
       "      <td>If you’re interested in embarking on a career ...</td>\n",
       "      <td>[youre, interested, embarking, career, tech, l...</td>\n",
       "      <td>your interest embark career tech like taken lo...</td>\n",
       "      <td>youre interested embarking career tech likely ...</td>\n",
       "    </tr>\n",
       "    <tr>\n",
       "      <th>5</th>\n",
       "      <td>Codeup Among Top 58 Best Coding Bootcamps of 2023</td>\n",
       "      <td>Codeup is pleased to announce we have been ran...</td>\n",
       "      <td>[codeup, pleased, announce, ranked, among, 58,...</td>\n",
       "      <td>codeup pleas announc rank among 58 best code b...</td>\n",
       "      <td>codeup pleased announce ranked among 58 best c...</td>\n",
       "    </tr>\n",
       "  </tbody>\n",
       "</table>\n",
       "</div>"
      ],
      "text/plain": [
       "                                               title  \\\n",
       "0  Black Excellence in Tech: Panelist Spotlight –...   \n",
       "1  Black excellence in tech: Panelist Spotlight –...   \n",
       "2  Black excellence in tech: Panelist Spotlight –...   \n",
       "3  Black excellence in tech: Panelist Spotlight –...   \n",
       "4  Coding Bootcamp or Self-Learning? Which is Bes...   \n",
       "5  Codeup Among Top 58 Best Coding Bootcamps of 2023   \n",
       "\n",
       "                                            original  \\\n",
       "0  Black excellence in tech: Panelist Spotlight –...   \n",
       "1  Black excellence in tech: Panelist Spotlight –...   \n",
       "2  Black excellence in tech: Panelist Spotlight –...   \n",
       "3  Black excellence in tech: Panelist Spotlight –...   \n",
       "4  If you’re interested in embarking on a career ...   \n",
       "5  Codeup is pleased to announce we have been ran...   \n",
       "\n",
       "                                               clean  \\\n",
       "0  [black, excellence, tech, panelist, spotlight,...   \n",
       "1  [black, excellence, tech, panelist, spotlight,...   \n",
       "2  [black, excellence, tech, panelist, spotlight,...   \n",
       "3  [black, excellence, tech, panelist, spotlight,...   \n",
       "4  [youre, interested, embarking, career, tech, l...   \n",
       "5  [codeup, pleased, announce, ranked, among, 58,...   \n",
       "\n",
       "                                             stemmed  \\\n",
       "0  black excel tech panelist spotlight wilmari de...   \n",
       "1  black excel tech panelist spotlight stephani j...   \n",
       "2  black excel tech panelist spotlight jame coope...   \n",
       "3  black excel tech panelist spotlight jeanic fre...   \n",
       "4  your interest embark career tech like taken lo...   \n",
       "5  codeup pleas announc rank among 58 best code b...   \n",
       "\n",
       "                                          lemmatized  \n",
       "0  black excellence tech panelist spotlight wilma...  \n",
       "1  black excellence tech panelist spotlight steph...  \n",
       "2  black excellence tech panelist spotlight james...  \n",
       "3  black excellence tech panelist spotlight jeani...  \n",
       "4  youre interested embarking career tech likely ...  \n",
       "5  codeup pleased announce ranked among 58 best c...  "
      ]
     },
     "execution_count": 68,
     "metadata": {},
     "output_type": "execute_result"
    }
   ],
   "source": [
    "clean_text = []\n",
    "stemmed_text = []\n",
    "lemmatized_text= []\n",
    "\n",
    "for i in range(0, len(codeup_df)):\n",
    "    text = basic_clean(codeup_df['original'][i])\n",
    "    no_stopwords = remove_stopwords(text)\n",
    "    tokens = tokenize(no_stopwords)\n",
    "    stemmed = stem(tokens)\n",
    "    lemmatized = lemmatize(tokens)\n",
    "    \n",
    "    clean_text.append(tokens)\n",
    "    stemmed_text.append(stemmed)\n",
    "    lemmatized_text.append(lemmatized)\n",
    "\n",
    "codeup_df['clean'] = clean_text\n",
    "codeup_df['stemmed'] = stemmed_text\n",
    "codeup_df['lemmatized'] = lemmatized_text\n",
    "\n",
    "codeup_df"
   ]
  },
  {
   "cell_type": "code",
   "execution_count": 72,
   "id": "92daefe8",
   "metadata": {},
   "outputs": [],
   "source": [
    "def add_columns(df):\n",
    "\n",
    "    df.rename(columns={'content':'original'},  inplace= True)\n",
    "    \n",
    "    clean_text = []\n",
    "    stemmed_text = []\n",
    "    lemmatized_text= []\n",
    "\n",
    "    for i in range(0, len(df)):\n",
    "        text = basic_clean(df['original'][i])\n",
    "        no_stopwords = remove_stopwords(text)\n",
    "        tokens = tokenize(no_stopwords)\n",
    "        stemmed = stem(tokens)\n",
    "        lemmatized = lemmatize(tokens)\n",
    "\n",
    "        clean_text.append(tokens)\n",
    "        stemmed_text.append(stemmed)\n",
    "        lemmatized_text.append(lemmatized)\n",
    "\n",
    "    df['clean'] = clean_text\n",
    "    df['stemmed'] = stemmed_text\n",
    "    df['lemmatized'] = lemmatized_text\n",
    "\n",
    "    return df"
   ]
  },
  {
   "cell_type": "code",
   "execution_count": 74,
   "id": "fa640209",
   "metadata": {},
   "outputs": [
    {
     "data": {
      "text/html": [
       "<div>\n",
       "<style scoped>\n",
       "    .dataframe tbody tr th:only-of-type {\n",
       "        vertical-align: middle;\n",
       "    }\n",
       "\n",
       "    .dataframe tbody tr th {\n",
       "        vertical-align: top;\n",
       "    }\n",
       "\n",
       "    .dataframe thead th {\n",
       "        text-align: right;\n",
       "    }\n",
       "</style>\n",
       "<table border=\"1\" class=\"dataframe\">\n",
       "  <thead>\n",
       "    <tr style=\"text-align: right;\">\n",
       "      <th></th>\n",
       "      <th>title</th>\n",
       "      <th>original</th>\n",
       "      <th>clean</th>\n",
       "      <th>stemmed</th>\n",
       "      <th>lemmatized</th>\n",
       "    </tr>\n",
       "  </thead>\n",
       "  <tbody>\n",
       "    <tr>\n",
       "      <th>0</th>\n",
       "      <td>Black Excellence in Tech: Panelist Spotlight –...</td>\n",
       "      <td>Black excellence in tech: Panelist Spotlight –...</td>\n",
       "      <td>[black, excellence, tech, panelist, spotlight,...</td>\n",
       "      <td>black excel tech panelist spotlight wilmari de...</td>\n",
       "      <td>black excellence tech panelist spotlight wilma...</td>\n",
       "    </tr>\n",
       "    <tr>\n",
       "      <th>1</th>\n",
       "      <td>Black excellence in tech: Panelist Spotlight –...</td>\n",
       "      <td>Black excellence in tech: Panelist Spotlight –...</td>\n",
       "      <td>[black, excellence, tech, panelist, spotlight,...</td>\n",
       "      <td>black excel tech panelist spotlight stephani j...</td>\n",
       "      <td>black excellence tech panelist spotlight steph...</td>\n",
       "    </tr>\n",
       "    <tr>\n",
       "      <th>2</th>\n",
       "      <td>Black excellence in tech: Panelist Spotlight –...</td>\n",
       "      <td>Black excellence in tech: Panelist Spotlight –...</td>\n",
       "      <td>[black, excellence, tech, panelist, spotlight,...</td>\n",
       "      <td>black excel tech panelist spotlight jame coope...</td>\n",
       "      <td>black excellence tech panelist spotlight james...</td>\n",
       "    </tr>\n",
       "    <tr>\n",
       "      <th>3</th>\n",
       "      <td>Black excellence in tech: Panelist Spotlight –...</td>\n",
       "      <td>Black excellence in tech: Panelist Spotlight –...</td>\n",
       "      <td>[black, excellence, tech, panelist, spotlight,...</td>\n",
       "      <td>black excel tech panelist spotlight jeanic fre...</td>\n",
       "      <td>black excellence tech panelist spotlight jeani...</td>\n",
       "    </tr>\n",
       "    <tr>\n",
       "      <th>4</th>\n",
       "      <td>Coding Bootcamp or Self-Learning? Which is Bes...</td>\n",
       "      <td>If you’re interested in embarking on a career ...</td>\n",
       "      <td>[youre, interested, embarking, career, tech, l...</td>\n",
       "      <td>your interest embark career tech like taken lo...</td>\n",
       "      <td>youre interested embarking career tech likely ...</td>\n",
       "    </tr>\n",
       "    <tr>\n",
       "      <th>5</th>\n",
       "      <td>Codeup Among Top 58 Best Coding Bootcamps of 2023</td>\n",
       "      <td>Codeup is pleased to announce we have been ran...</td>\n",
       "      <td>[codeup, pleased, announce, ranked, among, 58,...</td>\n",
       "      <td>codeup pleas announc rank among 58 best code b...</td>\n",
       "      <td>codeup pleased announce ranked among 58 best c...</td>\n",
       "    </tr>\n",
       "  </tbody>\n",
       "</table>\n",
       "</div>"
      ],
      "text/plain": [
       "                                               title  \\\n",
       "0  Black Excellence in Tech: Panelist Spotlight –...   \n",
       "1  Black excellence in tech: Panelist Spotlight –...   \n",
       "2  Black excellence in tech: Panelist Spotlight –...   \n",
       "3  Black excellence in tech: Panelist Spotlight –...   \n",
       "4  Coding Bootcamp or Self-Learning? Which is Bes...   \n",
       "5  Codeup Among Top 58 Best Coding Bootcamps of 2023   \n",
       "\n",
       "                                            original  \\\n",
       "0  Black excellence in tech: Panelist Spotlight –...   \n",
       "1  Black excellence in tech: Panelist Spotlight –...   \n",
       "2  Black excellence in tech: Panelist Spotlight –...   \n",
       "3  Black excellence in tech: Panelist Spotlight –...   \n",
       "4  If you’re interested in embarking on a career ...   \n",
       "5  Codeup is pleased to announce we have been ran...   \n",
       "\n",
       "                                               clean  \\\n",
       "0  [black, excellence, tech, panelist, spotlight,...   \n",
       "1  [black, excellence, tech, panelist, spotlight,...   \n",
       "2  [black, excellence, tech, panelist, spotlight,...   \n",
       "3  [black, excellence, tech, panelist, spotlight,...   \n",
       "4  [youre, interested, embarking, career, tech, l...   \n",
       "5  [codeup, pleased, announce, ranked, among, 58,...   \n",
       "\n",
       "                                             stemmed  \\\n",
       "0  black excel tech panelist spotlight wilmari de...   \n",
       "1  black excel tech panelist spotlight stephani j...   \n",
       "2  black excel tech panelist spotlight jame coope...   \n",
       "3  black excel tech panelist spotlight jeanic fre...   \n",
       "4  your interest embark career tech like taken lo...   \n",
       "5  codeup pleas announc rank among 58 best code b...   \n",
       "\n",
       "                                          lemmatized  \n",
       "0  black excellence tech panelist spotlight wilma...  \n",
       "1  black excellence tech panelist spotlight steph...  \n",
       "2  black excellence tech panelist spotlight james...  \n",
       "3  black excellence tech panelist spotlight jeani...  \n",
       "4  youre interested embarking career tech likely ...  \n",
       "5  codeup pleased announce ranked among 58 best c...  "
      ]
     },
     "execution_count": 74,
     "metadata": {},
     "output_type": "execute_result"
    }
   ],
   "source": [
    "codeup_df = add_columns(codeup_df)\n",
    "codeup_df"
   ]
  },
  {
   "cell_type": "code",
   "execution_count": 77,
   "id": "94640c13",
   "metadata": {},
   "outputs": [
    {
     "data": {
      "text/html": [
       "<div>\n",
       "<style scoped>\n",
       "    .dataframe tbody tr th:only-of-type {\n",
       "        vertical-align: middle;\n",
       "    }\n",
       "\n",
       "    .dataframe tbody tr th {\n",
       "        vertical-align: top;\n",
       "    }\n",
       "\n",
       "    .dataframe thead th {\n",
       "        text-align: right;\n",
       "    }\n",
       "</style>\n",
       "<table border=\"1\" class=\"dataframe\">\n",
       "  <thead>\n",
       "    <tr style=\"text-align: right;\">\n",
       "      <th></th>\n",
       "      <th>title</th>\n",
       "      <th>original</th>\n",
       "      <th>category</th>\n",
       "      <th>clean</th>\n",
       "      <th>stemmed</th>\n",
       "      <th>lemmatized</th>\n",
       "    </tr>\n",
       "  </thead>\n",
       "  <tbody>\n",
       "    <tr>\n",
       "      <th>0</th>\n",
       "      <td>All Adani stocks end higher for the first time...</td>\n",
       "      <td>All 10 Adani Group stocks closed higher on Wed...</td>\n",
       "      <td>business</td>\n",
       "      <td>[10, adani, group, stocks, closed, higher, wed...</td>\n",
       "      <td>10 adani group stock close higher wednesday fi...</td>\n",
       "      <td>10 adani group stock closed higher wednesday f...</td>\n",
       "    </tr>\n",
       "    <tr>\n",
       "      <th>1</th>\n",
       "      <td>Smriti Irani's 2011 tweet on LPG price hike re...</td>\n",
       "      <td>Hours after the central government raised the ...</td>\n",
       "      <td>business</td>\n",
       "      <td>[hours, central, government, raised, price, co...</td>\n",
       "      <td>hour central govern rais price commerci lpg cy...</td>\n",
       "      <td>hour central government raised price commercia...</td>\n",
       "    </tr>\n",
       "    <tr>\n",
       "      <th>2</th>\n",
       "      <td>Indian-Americans Renjen, Subramaniam to be mem...</td>\n",
       "      <td>Indian-Americans Punit Renjen and Rajesh Subra...</td>\n",
       "      <td>business</td>\n",
       "      <td>[indianamericans, punit, renjen, rajesh, subra...</td>\n",
       "      <td>indianamerican punit renjen rajesh subramaniam...</td>\n",
       "      <td>indianamericans punit renjen rajesh subramania...</td>\n",
       "    </tr>\n",
       "    <tr>\n",
       "      <th>3</th>\n",
       "      <td>Adani secures $3 bn credit from a sovereign we...</td>\n",
       "      <td>Adani Group has reportedly told creditors it h...</td>\n",
       "      <td>business</td>\n",
       "      <td>[adani, group, reportedly, told, creditors, se...</td>\n",
       "      <td>adani group reportedli told creditor secur 3 b...</td>\n",
       "      <td>adani group reportedly told creditor secured 3...</td>\n",
       "    </tr>\n",
       "    <tr>\n",
       "      <th>4</th>\n",
       "      <td>We can score a century for progress: Gates on ...</td>\n",
       "      <td>Microsoft Co-founder Bill Gates shared a messa...</td>\n",
       "      <td>business</td>\n",
       "      <td>[microsoft, cofounder, bill, gates, shared, me...</td>\n",
       "      <td>microsoft cofound bill gate share messag twitt...</td>\n",
       "      <td>microsoft cofounder bill gate shared message t...</td>\n",
       "    </tr>\n",
       "    <tr>\n",
       "      <th>...</th>\n",
       "      <td>...</td>\n",
       "      <td>...</td>\n",
       "      <td>...</td>\n",
       "      <td>...</td>\n",
       "      <td>...</td>\n",
       "      <td>...</td>\n",
       "    </tr>\n",
       "    <tr>\n",
       "      <th>95</th>\n",
       "      <td>India to be world's cheapest 5G market: Bill G...</td>\n",
       "      <td>At a session with Telecom Minister Ashwini Vai...</td>\n",
       "      <td>technology</td>\n",
       "      <td>[session, telecom, minister, ashwini, vaishnaw...</td>\n",
       "      <td>session telecom minist ashwini vaishnaw micros...</td>\n",
       "      <td>session telecom minister ashwini vaishnaw micr...</td>\n",
       "    </tr>\n",
       "    <tr>\n",
       "      <th>96</th>\n",
       "      <td>Elon Musk plays fart sounds in 2 am Twitter Sp...</td>\n",
       "      <td>Twitter chief Elon Musk co-hosted a Twitter Sp...</td>\n",
       "      <td>technology</td>\n",
       "      <td>[twitter, chief, elon, musk, cohosted, twitter...</td>\n",
       "      <td>twitter chief elon musk cohost twitter space l...</td>\n",
       "      <td>twitter chief elon musk cohosted twitter space...</td>\n",
       "    </tr>\n",
       "    <tr>\n",
       "      <th>97</th>\n",
       "      <td>Woman loses ₹8 lakh after being locked out of ...</td>\n",
       "      <td>A woman in the US has said she was locked out ...</td>\n",
       "      <td>technology</td>\n",
       "      <td>[woman, us, said, locked, apple, account, thie...</td>\n",
       "      <td>woman us said lock appl account thief stole ip...</td>\n",
       "      <td>woman u said locked apple account thief stole ...</td>\n",
       "    </tr>\n",
       "    <tr>\n",
       "      <th>98</th>\n",
       "      <td>Foxconn Chairman meets PM Modi for 2nd time in...</td>\n",
       "      <td>Apple supplier Foxconn's Chairman Young Liu on...</td>\n",
       "      <td>technology</td>\n",
       "      <td>[apple, supplier, foxconn, ', s, chairman, you...</td>\n",
       "      <td>appl supplier foxconn ' s chairman young liu t...</td>\n",
       "      <td>apple supplier foxconn ' s chairman young liu ...</td>\n",
       "    </tr>\n",
       "    <tr>\n",
       "      <th>99</th>\n",
       "      <td>No nation built more comprehensive digital inf...</td>\n",
       "      <td>Microsoft Co-founder Bill Gates said that no c...</td>\n",
       "      <td>technology</td>\n",
       "      <td>[microsoft, cofounder, bill, gates, said, coun...</td>\n",
       "      <td>microsoft cofound bill gate said countri built...</td>\n",
       "      <td>microsoft cofounder bill gate said country bui...</td>\n",
       "    </tr>\n",
       "  </tbody>\n",
       "</table>\n",
       "<p>100 rows × 6 columns</p>\n",
       "</div>"
      ],
      "text/plain": [
       "                                                title  \\\n",
       "0   All Adani stocks end higher for the first time...   \n",
       "1   Smriti Irani's 2011 tweet on LPG price hike re...   \n",
       "2   Indian-Americans Renjen, Subramaniam to be mem...   \n",
       "3   Adani secures $3 bn credit from a sovereign we...   \n",
       "4   We can score a century for progress: Gates on ...   \n",
       "..                                                ...   \n",
       "95  India to be world's cheapest 5G market: Bill G...   \n",
       "96  Elon Musk plays fart sounds in 2 am Twitter Sp...   \n",
       "97  Woman loses ₹8 lakh after being locked out of ...   \n",
       "98  Foxconn Chairman meets PM Modi for 2nd time in...   \n",
       "99  No nation built more comprehensive digital inf...   \n",
       "\n",
       "                                             original    category  \\\n",
       "0   All 10 Adani Group stocks closed higher on Wed...    business   \n",
       "1   Hours after the central government raised the ...    business   \n",
       "2   Indian-Americans Punit Renjen and Rajesh Subra...    business   \n",
       "3   Adani Group has reportedly told creditors it h...    business   \n",
       "4   Microsoft Co-founder Bill Gates shared a messa...    business   \n",
       "..                                                ...         ...   \n",
       "95  At a session with Telecom Minister Ashwini Vai...  technology   \n",
       "96  Twitter chief Elon Musk co-hosted a Twitter Sp...  technology   \n",
       "97  A woman in the US has said she was locked out ...  technology   \n",
       "98  Apple supplier Foxconn's Chairman Young Liu on...  technology   \n",
       "99  Microsoft Co-founder Bill Gates said that no c...  technology   \n",
       "\n",
       "                                                clean  \\\n",
       "0   [10, adani, group, stocks, closed, higher, wed...   \n",
       "1   [hours, central, government, raised, price, co...   \n",
       "2   [indianamericans, punit, renjen, rajesh, subra...   \n",
       "3   [adani, group, reportedly, told, creditors, se...   \n",
       "4   [microsoft, cofounder, bill, gates, shared, me...   \n",
       "..                                                ...   \n",
       "95  [session, telecom, minister, ashwini, vaishnaw...   \n",
       "96  [twitter, chief, elon, musk, cohosted, twitter...   \n",
       "97  [woman, us, said, locked, apple, account, thie...   \n",
       "98  [apple, supplier, foxconn, ', s, chairman, you...   \n",
       "99  [microsoft, cofounder, bill, gates, said, coun...   \n",
       "\n",
       "                                              stemmed  \\\n",
       "0   10 adani group stock close higher wednesday fi...   \n",
       "1   hour central govern rais price commerci lpg cy...   \n",
       "2   indianamerican punit renjen rajesh subramaniam...   \n",
       "3   adani group reportedli told creditor secur 3 b...   \n",
       "4   microsoft cofound bill gate share messag twitt...   \n",
       "..                                                ...   \n",
       "95  session telecom minist ashwini vaishnaw micros...   \n",
       "96  twitter chief elon musk cohost twitter space l...   \n",
       "97  woman us said lock appl account thief stole ip...   \n",
       "98  appl supplier foxconn ' s chairman young liu t...   \n",
       "99  microsoft cofound bill gate said countri built...   \n",
       "\n",
       "                                           lemmatized  \n",
       "0   10 adani group stock closed higher wednesday f...  \n",
       "1   hour central government raised price commercia...  \n",
       "2   indianamericans punit renjen rajesh subramania...  \n",
       "3   adani group reportedly told creditor secured 3...  \n",
       "4   microsoft cofounder bill gate shared message t...  \n",
       "..                                                ...  \n",
       "95  session telecom minister ashwini vaishnaw micr...  \n",
       "96  twitter chief elon musk cohosted twitter space...  \n",
       "97  woman u said locked apple account thief stole ...  \n",
       "98  apple supplier foxconn ' s chairman young liu ...  \n",
       "99  microsoft cofounder bill gate said country bui...  \n",
       "\n",
       "[100 rows x 6 columns]"
      ]
     },
     "execution_count": 77,
     "metadata": {},
     "output_type": "execute_result"
    }
   ],
   "source": [
    "news_df = add_columns(news_df)\n",
    "news_df    "
   ]
  },
  {
   "cell_type": "markdown",
   "id": "574e2f69",
   "metadata": {},
   "source": [
    "### 9. Ask yourself:\n",
    "\n",
    "    - If your corpus is 493KB, would you prefer to use stemmed or lemmatized text?\n",
    "    - If your corpus is 25MB, would you prefer to use stemmed or lemmatized text?\n",
    "    - If your corpus is 200TB of text and you're charged by the megabyte for your hosted computational resources, would you prefer to use stemmed or lemmatized text?"
   ]
  },
  {
   "cell_type": "markdown",
   "id": "e044c175",
   "metadata": {},
   "source": [
    "- For a corpus of 493KB, using lemmatized text may be a better option as the size of the corpus is relatively small. Lemmatization retains the base form of words, which may result in a slightly larger file size than stemming, but it can provide more accurate results as it considers the context and part of speech of the word.\n",
    "\n",
    "- For a corpus of 25MB, the decision between using stemmed or lemmatized text depends on the specific use case and requirements. Stemming is faster and results in a smaller file size, which may be beneficial if the focus is on processing speed and efficiency. On the other hand, lemmatization may be preferable if accuracy is a priority, as it produces more meaningful and contextually relevant words.\n",
    "\n",
    "- For a corpus of 200TB, using stemmed text may be a more practical option as it results in a smaller file size and can be processed faster. However, this decision also depends on the specific use case and requirements. If the accuracy of the analysis is a top priority and the added file size from lemmatization does not significantly impact the computational cost, then lemmatization may be the better option."
   ]
  }
 ],
 "metadata": {
  "kernelspec": {
   "display_name": "Python 3 (ipykernel)",
   "language": "python",
   "name": "python3"
  },
  "language_info": {
   "codemirror_mode": {
    "name": "ipython",
    "version": 3
   },
   "file_extension": ".py",
   "mimetype": "text/x-python",
   "name": "python",
   "nbconvert_exporter": "python",
   "pygments_lexer": "ipython3",
   "version": "3.9.13"
  }
 },
 "nbformat": 4,
 "nbformat_minor": 5
}
